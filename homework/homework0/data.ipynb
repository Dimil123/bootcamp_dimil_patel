{
 "cells": [
  {
   "cell_type": "code",
   "execution_count": 5,
   "id": "0c9d40ae-ff12-4996-9c1b-c6f698c70333",
   "metadata": {},
   "outputs": [],
   "source": [
    "import numpy as np"
   ]
  },
  {
   "cell_type": "code",
   "execution_count": 2,
   "id": "8555e50b-76a4-4bea-aafd-f783894f8969",
   "metadata": {},
   "outputs": [],
   "source": [
    "import os,json,time,datetime as dt, csv, pathlib\n",
    "from typing import Dict,List\n",
    "import requests\n",
    "from bs4 import BeautifulSoup\n",
    "from dotenv import load_dotenv"
   ]
  },
  {
   "cell_type": "code",
   "execution_count": 3,
   "id": "c00d99eb-3e6d-44ba-a06d-b6fa3dbc146c",
   "metadata": {},
   "outputs": [
    {
     "name": "stdout",
     "output_type": "stream",
     "text": [
      "Loaded ALPHAVANATGE_API_KEY? False\n"
     ]
    }
   ],
   "source": [
    "DATA_RAW = pathlib.Path(\"data/raw\")\n",
    "DATA_RAW.mkdir(parents=True, exist_ok=True)\n",
    "load_dotenv()\n",
    "ALPHA_KEY = os.getenv(\"ALPHAVANTAGE_API_KEY\")\n",
    "print(\"Loaded ALPHAVANATGE_API_KEY?\",bool(ALPHA_KEY))"
   ]
  },
  {
   "cell_type": "code",
   "execution_count": null,
   "id": "3be62b6a-12a2-4e8d-8e7f-7fcf313758f3",
   "metadata": {},
   "outputs": [],
   "source": []
  },
  {
   "cell_type": "code",
   "execution_count": null,
   "id": "bbcc75c9-feb6-46b9-bc88-2311cb37fb10",
   "metadata": {},
   "outputs": [],
   "source": [
    "!pip install pandas"
   ]
  },
  {
   "cell_type": "code",
   "execution_count": 7,
   "id": "983e1c2d-c045-49c5-b5ec-9636126b36ee",
   "metadata": {},
   "outputs": [],
   "source": [
    "import pandas as pd"
   ]
  },
  {
   "cell_type": "code",
   "execution_count": null,
   "id": "65eaed39-0e95-42dc-94f0-802eafb07d14",
   "metadata": {},
   "outputs": [],
   "source": [
    "import sys\n",
    "print(sys.executable)"
   ]
  },
  {
   "cell_type": "code",
   "execution_count": 8,
   "id": "0b722e23-52c8-490a-9d58-b95c1434ac5a",
   "metadata": {},
   "outputs": [
    {
     "name": "stdout",
     "output_type": "stream",
     "text": [
      "<class 'list'> <class 'numpy.ndarray'> <class 'pandas.core.series.Series'> <class 'pandas.core.frame.DataFrame'>\n"
     ]
    }
   ],
   "source": [
    "lst = [1, 2, 3]\n",
    "arr = np.array(lst)\n",
    "ser = pd.Series(lst)\n",
    "df = pd.DataFrame({'col1': lst, 'col2': [4,5,6]})\n",
    "\n",
    "print(type(lst), type(arr), type(ser), type(df))"
   ]
  },
  {
   "cell_type": "code",
   "execution_count": null,
   "id": "46c7fbcb-c112-439a-bee1-539867fbd458",
   "metadata": {},
   "outputs": [],
   "source": []
  }
 ],
 "metadata": {
  "kernelspec": {
   "display_name": "Python (bootcamp_env)",
   "language": "python",
   "name": "bootcamp_env"
  },
  "language_info": {
   "codemirror_mode": {
    "name": "ipython",
    "version": 3
   },
   "file_extension": ".py",
   "mimetype": "text/x-python",
   "name": "python",
   "nbconvert_exporter": "python",
   "pygments_lexer": "ipython3",
   "version": "3.10.18"
  }
 },
 "nbformat": 4,
 "nbformat_minor": 5
}
