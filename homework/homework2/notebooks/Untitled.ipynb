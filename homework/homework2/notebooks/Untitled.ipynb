{
 "cells": [
  {
   "cell_type": "code",
   "execution_count": 1,
   "id": "033beac7-0daf-4eeb-af36-7a8a9dcab92b",
   "metadata": {},
   "outputs": [],
   "source": [
    "import os\n",
    "from dotenv import load_dotenv, dotenv_values"
   ]
  },
  {
   "cell_type": "code",
   "execution_count": 2,
   "id": "45e4be31-ec8e-4ebe-a5c0-39c01cdbf2cd",
   "metadata": {},
   "outputs": [
    {
     "name": "stdout",
     "output_type": "stream",
     "text": [
      "DATA_DIR=./data\n",
      "API_KEY=dummy_key_123\n"
     ]
    }
   ],
   "source": [
    "load_dotenv()\n",
    "for key, value in dotenv_values().items():\n",
    "    print(f\"{key}={value}\")"
   ]
  },
  {
   "cell_type": "code",
   "execution_count": 11,
   "id": "988a1b5e-9b63-482b-8f97-fbc83207ab01",
   "metadata": {},
   "outputs": [
    {
     "data": {
      "text/plain": [
       "'C:\\\\Users\\\\My PC\\\\bootcamp_dimil_patel\\\\homework\\\\homework2\\\\notebooks'"
      ]
     },
     "execution_count": 11,
     "metadata": {},
     "output_type": "execute_result"
    }
   ],
   "source": [
    "os.getcwd()"
   ]
  },
  {
   "cell_type": "code",
   "execution_count": null,
   "id": "511fef08-2f7e-4907-96b1-9f95bc646f46",
   "metadata": {},
   "outputs": [],
   "source": []
  }
 ],
 "metadata": {
  "kernelspec": {
   "display_name": "Python(fe-course_env)",
   "language": "python",
   "name": "fe-course"
  },
  "language_info": {
   "codemirror_mode": {
    "name": "ipython",
    "version": 3
   },
   "file_extension": ".py",
   "mimetype": "text/x-python",
   "name": "python",
   "nbconvert_exporter": "python",
   "pygments_lexer": "ipython3",
   "version": "3.11.13"
  }
 },
 "nbformat": 4,
 "nbformat_minor": 5
}
