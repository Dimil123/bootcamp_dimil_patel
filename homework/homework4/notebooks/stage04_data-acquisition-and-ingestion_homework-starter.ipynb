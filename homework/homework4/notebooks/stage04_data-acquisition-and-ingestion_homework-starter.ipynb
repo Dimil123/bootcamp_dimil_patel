{
 "cells": [
  {
   "cell_type": "code",
   "execution_count": 1,
   "id": "1bbe6ca8-00e5-4e91-b3dc-2cabdb864d2e",
   "metadata": {},
   "outputs": [],
   "source": [
    "# !pip install yfinance\n",
    "import yfinance as yf"
   ]
  },
  {
   "cell_type": "code",
   "execution_count": 2,
   "id": "1d186ea8-528c-44fd-8ce1-34091c60df66",
   "metadata": {},
   "outputs": [
    {
     "name": "stdout",
     "output_type": "stream",
     "text": [
      "Loaded ALPHAVANTAGE_API_KEY? True\n"
     ]
    }
   ],
   "source": [
    "import os, json, time, datetime as dt, csv, pathlib\n",
    "from typing import Dict, List\n",
    "import requests\n",
    "import pandas as pd\n",
    "from bs4 import BeautifulSoup\n",
    "from dotenv import load_dotenv\n",
    "\n",
    "DATA_RAW = pathlib.Path(\"data/raw\")\n",
    "DATA_RAW.mkdir(parents=True, exist_ok=True)\n",
    "\n",
    "load_dotenv()\n",
    "ALPHA_KEY = os.getenv(\"ALPHAVANTAGE_API_KEY\")\n",
    "print(\"Loaded ALPHAVANTAGE_API_KEY?\", bool(ALPHA_KEY))"
   ]
  },
  {
   "cell_type": "code",
   "execution_count": 3,
   "id": "8b67230b-2a80-4b01-a34c-ca54315f3fcb",
   "metadata": {
    "editable": true,
    "slideshow": {
     "slide_type": ""
    },
    "tags": []
   },
   "outputs": [],
   "source": [
    "def safe_stamp():\n",
    "    return dt.datetime.now().strftime(\"%Y%m%d-%H%M%S\")\n",
    "def safe_filename(prefix: str, meta: Dict[str,str]) -> str:\n",
    "    mid=\"-\".join([f\"{k}-{str(v).replace(' ','-')[:20]}\" for k,v in meta.items()])\n",
    "    return f\"{prefix}_{mid}_{safe_stamp()}.csv\"\n",
    "def validate_df(df: pd.DataFrame, required_cols: List[str], dtypes_map: Dict[str,str])->Dict[str,str]:\n",
    "    msgs = {}\n",
    "    missing = [c for c in required_cols if c not in df.columns]\n",
    "    if missing:\n",
    "        msgs['missing_cols']=f\"Missing columns: {missing}\"\n",
    "    for col,dtype in dtypes_map.items():\n",
    "        if col in df.columns:\n",
    "            try:\n",
    "                if dtype == 'datetime64[ns]':\n",
    "                    pd.to_datetime(df[col])\n",
    "                elif dtype == 'float':\n",
    "                    pd.to_numeric(df[col])\n",
    "            except Exception as e:\n",
    "                msgs[f'dtype_{col}']=f\"Failed to coerce {col} to {dtype} : {e}\"\n",
    "    na_counts = df.isna().sum().sum()\n",
    "    msgs['na_total'] = f\"Total NA values: {na_counts}\"\n",
    "    return msgs\n"
   ]
  },
  {
   "cell_type": "code",
   "execution_count": 4,
   "id": "7592f563-1d10-44c7-9a5e-64d63cdf1484",
   "metadata": {},
   "outputs": [
    {
     "name": "stderr",
     "output_type": "stream",
     "text": [
      "C:\\Users\\My PC\\AppData\\Local\\Temp\\ipykernel_22060\\3517271565.py:27: FutureWarning: YF.download() has changed argument auto_adjust default to True\n",
      "  df_api=yf.download(SYMBOL, period=\"6mo\", interval=\"1d\").reset_index()[['Date','Close']]\n",
      "[*********************100%***********************]  1 of 1 completed"
     ]
    },
    {
     "name": "stdout",
     "output_type": "stream",
     "text": [
      "{'na_total': 'Total NA values: 0'}\n",
      "Saved: data\\raw\\api_source-yfinance-symbol-MSFT_20250819-230230.csv\n"
     ]
    },
    {
     "name": "stderr",
     "output_type": "stream",
     "text": [
      "\n"
     ]
    },
    {
     "data": {
      "text/html": [
       "<div>\n",
       "<style scoped>\n",
       "    .dataframe tbody tr th:only-of-type {\n",
       "        vertical-align: middle;\n",
       "    }\n",
       "\n",
       "    .dataframe tbody tr th {\n",
       "        vertical-align: top;\n",
       "    }\n",
       "\n",
       "    .dataframe thead th {\n",
       "        text-align: right;\n",
       "    }\n",
       "</style>\n",
       "<table border=\"1\" class=\"dataframe\">\n",
       "  <thead>\n",
       "    <tr style=\"text-align: right;\">\n",
       "      <th></th>\n",
       "      <th>date</th>\n",
       "      <th>close</th>\n",
       "    </tr>\n",
       "  </thead>\n",
       "  <tbody>\n",
       "    <tr>\n",
       "      <th>0</th>\n",
       "      <td>2025-02-20</td>\n",
       "      <td>415.367462</td>\n",
       "    </tr>\n",
       "    <tr>\n",
       "      <th>1</th>\n",
       "      <td>2025-02-21</td>\n",
       "      <td>407.461945</td>\n",
       "    </tr>\n",
       "    <tr>\n",
       "      <th>2</th>\n",
       "      <td>2025-02-24</td>\n",
       "      <td>403.259674</td>\n",
       "    </tr>\n",
       "    <tr>\n",
       "      <th>3</th>\n",
       "      <td>2025-02-25</td>\n",
       "      <td>397.170837</td>\n",
       "    </tr>\n",
       "    <tr>\n",
       "      <th>4</th>\n",
       "      <td>2025-02-26</td>\n",
       "      <td>398.997498</td>\n",
       "    </tr>\n",
       "  </tbody>\n",
       "</table>\n",
       "</div>"
      ],
      "text/plain": [
       "        date       close\n",
       "0 2025-02-20  415.367462\n",
       "1 2025-02-21  407.461945\n",
       "2 2025-02-24  403.259674\n",
       "3 2025-02-25  397.170837\n",
       "4 2025-02-26  398.997498"
      ]
     },
     "execution_count": 4,
     "metadata": {},
     "output_type": "execute_result"
    }
   ],
   "source": [
    "SYMBOL = \"MSFT\"\n",
    "# use_alpha = bool(ALPHA_KEY)\n",
    "# print(\"Using Alpha Vantage: :\", use_alpha)\n",
    "# if use_alpha:\n",
    "#     url = \"https://www.alphavantage.co/query?\"\n",
    "#     params={\n",
    "#         \"function\": \"TIME SERIES DAILY ADJUSTED\",\n",
    "#         \"symbol\": SYMBOL,\n",
    "#         \"outputsize\":\"compact\",\n",
    "#         \"apikey\": ALPHA_KEY,\n",
    "#         \"datatype\": \"json\"\n",
    "#     }\n",
    "#     r = requests.get(url,params=params,timeout=20)\n",
    "#     r.raise_for_status()\n",
    "#     js=r.json()\n",
    "#     key=[k for k in js.keys() if \"Time Series\" in k]\n",
    "#     assert key, f\"Unexpected response keys: {list(js.keys())}\"\n",
    "#     series=js[keys[0]]\n",
    "#     df_api=(pd.DataFrame(series).T\n",
    "#             .rename_axis('date')\n",
    "#             .reset_index())\n",
    "#     df_api=df.api[['date','5. adjusted close']].rename(columns={'5. adjusted close': 'adj_close'})\n",
    "#     df_api['date']=pd.to_datetime(df_api['date'])\n",
    "#     df_api['adj_close']=pd.to_numeric(df_api['adj_close'])\n",
    "# else:\n",
    "import yfinance as yf\n",
    "df_api=yf.download(SYMBOL, period=\"6mo\", interval=\"1d\").reset_index()[['Date','Close']]\n",
    "df_api.columns = ['date', 'close']\n",
    "df_api = df_api.sort_values('date').reset_index(drop=True)\n",
    "msgs = validate_df(df_api, required_cols=['date','close'], dtypes_map={'date':'datetime64[ns]','close':'float'})\n",
    "print(msgs)\n",
    "\n",
    "fname = safe_filename(prefix=\"api\", meta={\"source\":\"yfinance\", \"symbol\": SYMBOL})\n",
    "out_path = DATA_RAW / fname\n",
    "df_api.to_csv(out_path, index=False)\n",
    "print(\"Saved:\", out_path)\n",
    "df_api.head()"
   ]
  },
  {
   "cell_type": "markdown",
   "id": "c685e48a-4461-48ff-8109-a9c1d2500afc",
   "metadata": {},
   "source": [
    "Scrapping Website"
   ]
  },
  {
   "cell_type": "code",
   "execution_count": 5,
   "id": "e605dce1-c14c-46ad-ac9e-57bb92749eb5",
   "metadata": {
    "scrolled": true
   },
   "outputs": [
    {
     "name": "stdout",
     "output_type": "stream",
     "text": [
      "{'na_total': 'Total NA values: 0'}\n",
      "Saved: data\\raw\\scrape_site-example-table-markets_20250819-230230.csv\n"
     ]
    },
    {
     "data": {
      "text/html": [
       "<div>\n",
       "<style scoped>\n",
       "    .dataframe tbody tr th:only-of-type {\n",
       "        vertical-align: middle;\n",
       "    }\n",
       "\n",
       "    .dataframe tbody tr th {\n",
       "        vertical-align: top;\n",
       "    }\n",
       "\n",
       "    .dataframe thead th {\n",
       "        text-align: right;\n",
       "    }\n",
       "</style>\n",
       "<table border=\"1\" class=\"dataframe\">\n",
       "  <thead>\n",
       "    <tr style=\"text-align: right;\">\n",
       "      <th></th>\n",
       "      <th>Company name</th>\n",
       "      <th>Symbol</th>\n",
       "      <th>Sector</th>\n",
       "      <th>Date added</th>\n",
       "    </tr>\n",
       "  </thead>\n",
       "  <tbody>\n",
       "    <tr>\n",
       "      <th>0</th>\n",
       "      <td>Adani Enterprises</td>\n",
       "      <td>ADANIENT</td>\n",
       "      <td>Metals &amp; Mining</td>\n",
       "      <td>2022-09-30</td>\n",
       "    </tr>\n",
       "    <tr>\n",
       "      <th>1</th>\n",
       "      <td>Adani Ports &amp; SEZ</td>\n",
       "      <td>ADANIPORTS</td>\n",
       "      <td>Services</td>\n",
       "      <td>2015-09-28</td>\n",
       "    </tr>\n",
       "    <tr>\n",
       "      <th>2</th>\n",
       "      <td>Apollo Hospitals</td>\n",
       "      <td>APOLLOHOSP</td>\n",
       "      <td>Healthcare</td>\n",
       "      <td>2022-03-31</td>\n",
       "    </tr>\n",
       "    <tr>\n",
       "      <th>3</th>\n",
       "      <td>Asian Paints</td>\n",
       "      <td>ASIANPAINT</td>\n",
       "      <td>Consumer Durables</td>\n",
       "      <td>2012-04-27</td>\n",
       "    </tr>\n",
       "    <tr>\n",
       "      <th>4</th>\n",
       "      <td>Axis Bank</td>\n",
       "      <td>AXISBANK</td>\n",
       "      <td>Financial Services</td>\n",
       "      <td>2009-03-27</td>\n",
       "    </tr>\n",
       "  </tbody>\n",
       "</table>\n",
       "</div>"
      ],
      "text/plain": [
       "        Company name      Symbol              Sector Date added\n",
       "0  Adani Enterprises    ADANIENT     Metals & Mining 2022-09-30\n",
       "1  Adani Ports & SEZ  ADANIPORTS            Services 2015-09-28\n",
       "2   Apollo Hospitals  APOLLOHOSP          Healthcare 2022-03-31\n",
       "3       Asian Paints  ASIANPAINT   Consumer Durables 2012-04-27\n",
       "4          Axis Bank    AXISBANK  Financial Services 2009-03-27"
      ]
     },
     "execution_count": 5,
     "metadata": {},
     "output_type": "execute_result"
    }
   ],
   "source": [
    "SCRAPE_URL = \"https://en.wikipedia.org/wiki/NIFTY_50\"\n",
    "headers = {\"User-Agent\": \"AFE-Course-Notebook/1.0\"}\n",
    "resp = requests.get(SCRAPE_URL, headers=headers, timeout=30)\n",
    "resp.raise_for_status()\n",
    "soup = BeautifulSoup(resp.text, 'html.parser')\n",
    "table = soup.find('table', {'class': 'wikitable'})\n",
    "rows = []\n",
    "for tr in table.find_all('tr'):\n",
    "    cells = [td.get_text(strip=True) for td in tr.find_all(['td','th'])]\n",
    "    if cells:\n",
    "        rows.append(cells)\n",
    "header, *data = rows\n",
    "df_scrape = pd.DataFrame(data, columns=header)\n",
    "df_scrape.columns = df_scrape.columns.str.replace(r\"\\[\\w+\\]\", \"\", regex=True).str.strip()\n",
    "df_scrape = df_scrape.replace(r\"\\[\\w+\\]\", \"\", regex=True)\n",
    "\n",
    "if 'Date added' in df_scrape.columns:\n",
    "    df_scrape['Date added'] = pd.to_datetime(df_scrape['Date added'], errors='coerce')\n",
    "msgs2 = validate_df(df_scrape, required_cols=list(df_scrape.columns), dtypes_map={})\n",
    "print(msgs2)\n",
    "\n",
    "fname2 = safe_filename(prefix=\"scrape\", meta={\"site\": \"example\", \"table\": \"markets\"})\n",
    "out_path2 = DATA_RAW / fname2\n",
    "df_scrape.to_csv(out_path2, index=False)\n",
    "print(\"Saved:\", out_path2)\n",
    "df_scrape.head()"
   ]
  },
  {
   "cell_type": "code",
   "execution_count": null,
   "id": "7fb48c56-f4e1-40c1-a553-3fa4cb54c009",
   "metadata": {},
   "outputs": [],
   "source": []
  }
 ],
 "metadata": {
  "kernelspec": {
   "display_name": "Python(fe-course_env)",
   "language": "python",
   "name": "fe-course"
  },
  "language_info": {
   "codemirror_mode": {
    "name": "ipython",
    "version": 3
   },
   "file_extension": ".py",
   "mimetype": "text/x-python",
   "name": "python",
   "nbconvert_exporter": "python",
   "pygments_lexer": "ipython3",
   "version": "3.11.13"
  }
 },
 "nbformat": 4,
 "nbformat_minor": 5
}
