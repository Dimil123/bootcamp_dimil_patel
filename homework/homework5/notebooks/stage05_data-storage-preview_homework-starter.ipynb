{
 "cells": [
  {
   "cell_type": "code",
   "execution_count": 1,
   "id": "4b4f34ea-6fd3-4923-85ba-43869d1eaf8c",
   "metadata": {
    "editable": true,
    "slideshow": {
     "slide_type": ""
    },
    "tags": []
   },
   "outputs": [
    {
     "name": "stdout",
     "output_type": "stream",
     "text": [
      "RAW_DIR: C:\\Users\\My PC\\bootcamp_dimil_patel\\homework\\homework5\\data\\raw\n",
      "PROC_DIR: C:\\Users\\My PC\\bootcamp_dimil_patel\\homework\\homework5\\data\\processed\n"
     ]
    }
   ],
   "source": [
    "import os, pathlib, datetime as dt\n",
    "import pandas as pd\n",
    "import numpy as np\n",
    "from dotenv import load_dotenv\n",
    "\n",
    "load_dotenv()\n",
    "RAW_DIR = pathlib.Path(os.getenv(\"DATA_DIR_RAW\", \"data/raw\"))\n",
    "PROC_DIR = pathlib.Path(os.getenv(\"DATA_DIR_PROCESSED\", \"data/processed\"))\n",
    "RAW_DIR.mkdir(parents=True, exist_ok=True)\n",
    "PROC_DIR.mkdir(parents=True, exist_ok=True)\n",
    "print(\"RAW_DIR:\", RAW_DIR.resolve())\n",
    "print(\"PROC_DIR:\", PROC_DIR.resolve())"
   ]
  },
  {
   "cell_type": "markdown",
   "id": "31a3f741-33c2-476f-a4b2-56a9045a75a3",
   "metadata": {},
   "source": [
    "Creating Random DataFrame"
   ]
  },
  {
   "cell_type": "code",
   "execution_count": 2,
   "id": "3760ac67-ce32-4574-ae3f-8c8c6b484912",
   "metadata": {},
   "outputs": [
    {
     "data": {
      "text/html": [
       "<div>\n",
       "<style scoped>\n",
       "    .dataframe tbody tr th:only-of-type {\n",
       "        vertical-align: middle;\n",
       "    }\n",
       "\n",
       "    .dataframe tbody tr th {\n",
       "        vertical-align: top;\n",
       "    }\n",
       "\n",
       "    .dataframe thead th {\n",
       "        text-align: right;\n",
       "    }\n",
       "</style>\n",
       "<table border=\"1\" class=\"dataframe\">\n",
       "  <thead>\n",
       "    <tr style=\"text-align: right;\">\n",
       "      <th></th>\n",
       "      <th>date</th>\n",
       "      <th>age</th>\n",
       "      <th>income</th>\n",
       "    </tr>\n",
       "  </thead>\n",
       "  <tbody>\n",
       "    <tr>\n",
       "      <th>0</th>\n",
       "      <td>2024-01-01</td>\n",
       "      <td>26.0</td>\n",
       "      <td>26897.08</td>\n",
       "    </tr>\n",
       "    <tr>\n",
       "      <th>1</th>\n",
       "      <td>2024-01-02</td>\n",
       "      <td>37.0</td>\n",
       "      <td>46257.21</td>\n",
       "    </tr>\n",
       "    <tr>\n",
       "      <th>2</th>\n",
       "      <td>2024-01-03</td>\n",
       "      <td>36.0</td>\n",
       "      <td>25075.84</td>\n",
       "    </tr>\n",
       "    <tr>\n",
       "      <th>3</th>\n",
       "      <td>2024-01-04</td>\n",
       "      <td>36.0</td>\n",
       "      <td>33176.24</td>\n",
       "    </tr>\n",
       "    <tr>\n",
       "      <th>4</th>\n",
       "      <td>2024-01-05</td>\n",
       "      <td>33.0</td>\n",
       "      <td>35312.61</td>\n",
       "    </tr>\n",
       "  </tbody>\n",
       "</table>\n",
       "</div>"
      ],
      "text/plain": [
       "        date   age    income\n",
       "0 2024-01-01  26.0  26897.08\n",
       "1 2024-01-02  37.0  46257.21\n",
       "2 2024-01-03  36.0  25075.84\n",
       "3 2024-01-04  36.0  33176.24\n",
       "4 2024-01-05  33.0  35312.61"
      ]
     },
     "execution_count": 2,
     "metadata": {},
     "output_type": "execute_result"
    }
   ],
   "source": [
    "n = 180  # ~6 months of daily data\n",
    "dates = pd.date_range('2024-01-01', periods=n, freq='D')\n",
    "age = np.random.normal(30, 6, size=n).clip(18, 42)\n",
    "income = np.random.lognormal(mean=10.82, sigma=0.3, size=n)  # lognormal skew\n",
    "\n",
    "# Assemble\n",
    "df = pd.DataFrame({\n",
    "    'date': dates,\n",
    "    'age': age.round(0),\n",
    "    'income': income.round(2),\n",
    "})\n",
    "df.head()"
   ]
  },
  {
   "cell_type": "code",
   "execution_count": 3,
   "id": "07350efd-6622-4d2c-9119-afa30b6c1429",
   "metadata": {},
   "outputs": [
    {
     "name": "stdout",
     "output_type": "stream",
     "text": [
      "Saved CSV → data\\raw\\Income_Data.csv\n",
      "Saved Parquet → data\\processed\\Income_Data.parquet\n"
     ]
    }
   ],
   "source": [
    "csv_path = RAW_DIR / f\"Income_Data.csv\"\n",
    "df.to_csv(csv_path, index=False)\n",
    "print(\"Saved CSV →\", csv_path)\n",
    "\n",
    "parq_path = PROC_DIR / f\"Income_Data.parquet\"\n",
    "try:\n",
    "    df.to_parquet(parq_path)  # uses installed engine if available\n",
    "    print(\"Saved Parquet →\", parq_path)\n",
    "except Exception as e:\n",
    "    print(\"Parquet save failed (engine missing?). Skipping Parquet demo.\")\n",
    "    print(\"Error:\", e)"
   ]
  },
  {
   "cell_type": "markdown",
   "id": "8d3fdaad-5ec1-49bd-a330-08bcde0a934d",
   "metadata": {},
   "source": [
    "Reload and validate"
   ]
  },
  {
   "cell_type": "code",
   "execution_count": 22,
   "id": "7647cf1a-f7f5-46a0-af3a-103d3ce2409b",
   "metadata": {},
   "outputs": [],
   "source": [
    "def validate_loaded(original: pd.DataFrame, reloaded: pd.DataFrame, cols=('date','age','income')):\n",
    "    checks = {\n",
    "        'shape_equal': original.shape == reloaded.shape,\n",
    "        'cols_present': all(c in reloaded.columns for c in cols)\n",
    "    }\n",
    "    # dtype sanity checks\n",
    "    if 'age' in reloaded.columns:\n",
    "        checks['age_is_float'] = pd.api.types.is_float_dtype(reloaded['age'])\n",
    "    if 'income' in reloaded.columns:\n",
    "        checks['income_is_numeric'] = pd.api.types.is_numeric_dtype(reloaded['income'])\n",
    "    if 'date' in reloaded.columns:\n",
    "        checks['date_is_datetime'] = pd.api.types.is_datetime64_any_dtype(reloaded['date'])\n",
    "    return checks"
   ]
  },
  {
   "cell_type": "code",
   "execution_count": 23,
   "id": "7c049621-7fd2-48a7-8c97-a38eb7e2c116",
   "metadata": {},
   "outputs": [
    {
     "name": "stdout",
     "output_type": "stream",
     "text": [
      "CSV validation: {'shape_equal': True, 'cols_present': True, 'age_is_float': True, 'income_is_numeric': True, 'date_is_datetime': True}\n",
      "Parquet validation: {'shape_equal': True, 'cols_present': True, 'age_is_float': True, 'income_is_numeric': True, 'date_is_datetime': True}\n"
     ]
    }
   ],
   "source": [
    "df_csv = pd.read_csv(csv_path,parse_dates=['date'])\n",
    "print('CSV validation:', validate_loaded(df, df_csv))\n",
    "df_parq = pd.read_parquet(parq_path)\n",
    "print('Parquet validation:', validate_loaded(df, df_parq))"
   ]
  },
  {
   "cell_type": "markdown",
   "id": "0bbd8c16-596c-409b-978d-b371a76221e9",
   "metadata": {},
   "source": [
    "Wriet and Read Util"
   ]
  },
  {
   "cell_type": "code",
   "execution_count": 16,
   "id": "c9f0d165-6225-4d71-ab77-8b74b3103b68",
   "metadata": {},
   "outputs": [
    {
     "name": "stdout",
     "output_type": "stream",
     "text": [
      "Reloaded CSV via util, shape: (180, 3)\n",
      "Reloaded Parquet via util, shape: (180, 3)\n"
     ]
    }
   ],
   "source": [
    "from typing import Union\n",
    "\n",
    "def ensure_dir(path: pathlib.Path):\n",
    "    path.parent.mkdir(parents=True, exist_ok=True)\n",
    "\n",
    "def detect_format(path: Union[str, pathlib.Path]):\n",
    "    suf = str(path).lower()\n",
    "    if suf.endswith('.csv'): return 'csv'\n",
    "    if suf.endswith('.parquet') or suf.endswith('.pq') or suf.endswith('.parq'): return 'parquet'\n",
    "    raise ValueError('Unsupported format for: ' + str(path))\n",
    "\n",
    "def write_df(df: pd.DataFrame, path: Union[str, pathlib.Path]):\n",
    "    path = pathlib.Path(path)\n",
    "    ensure_dir(path)\n",
    "    fmt = detect_format(path)\n",
    "    if fmt == 'csv':\n",
    "        df.to_csv(path, index=False)\n",
    "    elif fmt == 'parquet':\n",
    "        try:\n",
    "            df.to_parquet(path)\n",
    "        except Exception as e:\n",
    "            raise RuntimeError('Parquet engine not available. Install pyarrow or fastparquet.') from e    \n",
    "    return path\n",
    "def read_df(path: Union[str, pathlib.Path]):\n",
    "    path = pathlib.Path(path)\n",
    "    fmt = detect_format(path)\n",
    "    if fmt == 'csv':\n",
    "        return pd.read_csv(path, parse_dates=['date']) if 'date' in pd.read_csv(path, nrows=0).columns else pd.read_csv(path)\n",
    "    elif fmt == 'parquet':\n",
    "        try:\n",
    "            return pd.read_parquet(path)\n",
    "        except Exception as e:\n",
    "            raise RuntimeError('Parquet engine not available. Install pyarrow or fastparquet.') from e\n",
    "testcsv = RAW_DIR / f\"Income_Data_util.csv\"\n",
    "testpq  = PROC_DIR / f\"Income_Data_util.parquet\"\n",
    "write_df(df, testcsv)\n",
    "df2 = read_df(testcsv)\n",
    "print('Reloaded CSV via util, shape:', df2.shape)\n",
    "\n",
    "try:\n",
    "    write_df(df, testpq)\n",
    "    df3 = read_df(testpq)\n",
    "    print('Reloaded Parquet via util, shape:', df3.shape)\n",
    "except RuntimeError as e:\n",
    "    print('Parquet util demo skipped:', e)    "
   ]
  },
  {
   "cell_type": "code",
   "execution_count": null,
   "id": "36981633-f4be-4c2c-b522-a338cba3d314",
   "metadata": {},
   "outputs": [],
   "source": []
  }
 ],
 "metadata": {
  "kernelspec": {
   "display_name": "Python(fe-course_env)",
   "language": "python",
   "name": "fe-course"
  },
  "language_info": {
   "codemirror_mode": {
    "name": "ipython",
    "version": 3
   },
   "file_extension": ".py",
   "mimetype": "text/x-python",
   "name": "python",
   "nbconvert_exporter": "python",
   "pygments_lexer": "ipython3",
   "version": "3.11.13"
  }
 },
 "nbformat": 4,
 "nbformat_minor": 5
}
