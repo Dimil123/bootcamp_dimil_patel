{
 "cells": [
  {
   "cell_type": "code",
   "execution_count": 59,
   "id": "0c9d40ae-ff12-4996-9c1b-c6f698c70333",
   "metadata": {},
   "outputs": [],
   "source": [
    "import numpy as np\n",
    "import pandas as pd\n",
    "import matplotlib.pyplot as plt\n",
    "import os"
   ]
  },
  {
   "cell_type": "markdown",
   "id": "2cf66b15-9eb3-41a3-9dff-27f043cdbe70",
   "metadata": {},
   "source": [
    "Numpy Basic Operations"
   ]
  },
  {
   "cell_type": "code",
   "execution_count": 19,
   "id": "8555e50b-76a4-4bea-aafd-f783894f8969",
   "metadata": {},
   "outputs": [],
   "source": [
    "A = np.array([1,2,3,4,5])\n",
    "B = np.array([6,7,8,9,10])"
   ]
  },
  {
   "cell_type": "markdown",
   "id": "02799856-e384-4ce7-93fc-62bae03c3396",
   "metadata": {},
   "source": [
    "Sum"
   ]
  },
  {
   "cell_type": "code",
   "execution_count": 20,
   "id": "3be62b6a-12a2-4e8d-8e7f-7fcf313758f3",
   "metadata": {},
   "outputs": [
    {
     "data": {
      "text/plain": [
       "array([ 7,  9, 11, 13, 15])"
      ]
     },
     "execution_count": 20,
     "metadata": {},
     "output_type": "execute_result"
    }
   ],
   "source": [
    "A+B"
   ]
  },
  {
   "cell_type": "markdown",
   "id": "7e7f01a6-043d-45aa-98e5-82a7dda38329",
   "metadata": {},
   "source": [
    "Multiply"
   ]
  },
  {
   "cell_type": "code",
   "execution_count": 21,
   "id": "983e1c2d-c045-49c5-b5ec-9636126b36ee",
   "metadata": {},
   "outputs": [
    {
     "data": {
      "text/plain": [
       "array([ 6, 14, 24, 36, 50])"
      ]
     },
     "execution_count": 21,
     "metadata": {},
     "output_type": "execute_result"
    }
   ],
   "source": [
    "A*B"
   ]
  },
  {
   "cell_type": "markdown",
   "id": "341421be-39d9-4b59-afd6-835a38811dbc",
   "metadata": {},
   "source": [
    "Average"
   ]
  },
  {
   "cell_type": "code",
   "execution_count": 35,
   "id": "0b722e23-52c8-490a-9d58-b95c1434ac5a",
   "metadata": {},
   "outputs": [
    {
     "name": "stdout",
     "output_type": "stream",
     "text": [
      "Mean of A = 3.0\n",
      "Mean of B = 8.0\n"
     ]
    }
   ],
   "source": [
    "print(f\"Mean of A = {np.mean(A)}\")\n",
    "print(f\"Mean of B = {np.mean(B)}\")\n"
   ]
  },
  {
   "cell_type": "markdown",
   "id": "889ff42c-77dc-491e-9522-176f019e1976",
   "metadata": {},
   "source": [
    "loop vs vectorized execution"
   ]
  },
  {
   "cell_type": "code",
   "execution_count": 46,
   "id": "46c7fbcb-c112-439a-bee1-539867fbd458",
   "metadata": {},
   "outputs": [],
   "source": [
    "prices = np.random.uniform(100, 200, size=10000)"
   ]
  },
  {
   "cell_type": "markdown",
   "id": "8d117024-92bf-4b06-b6ce-5a5c0695d1c1",
   "metadata": {},
   "source": [
    "loop"
   ]
  },
  {
   "cell_type": "code",
   "execution_count": 57,
   "id": "0af31025-c340-4fe4-9ae2-612fc6dc84a2",
   "metadata": {},
   "outputs": [
    {
     "name": "stdout",
     "output_type": "stream",
     "text": [
      "31.6 ns ± 2.04 ns per loop (mean ± std. dev. of 7 runs, 10,000,000 loops each)\n",
      "[0.0747728989552235, 0.20182480787495571, -0.1273750147899795, -0.018829309248430293, -0.15566589213761922]\n"
     ]
    }
   ],
   "source": [
    "# Daily return\n",
    "returns_loop = []\n",
    "def Daily_return(prices):\n",
    "\n",
    "    for i in range(1, len(prices)):\n",
    "        ret = (prices[i] - prices[i - 1]) / prices[i - 1]\n",
    "        returns_loop.append(ret)\n",
    "    return returns_loop\n",
    "\n",
    "%timeit Daily_return\n",
    "#sample returns data\n",
    "returns = Daily_return(prices)\n",
    "print([float(r) for r in returns[:5]])\n"
   ]
  },
  {
   "cell_type": "markdown",
   "id": "a061647f-40fc-45c1-a959-44b0d3449302",
   "metadata": {},
   "source": [
    "vector"
   ]
  },
  {
   "cell_type": "code",
   "execution_count": 49,
   "id": "298ace4e-ccf6-4d36-a18b-324d1737c13b",
   "metadata": {},
   "outputs": [
    {
     "name": "stdout",
     "output_type": "stream",
     "text": [
      "10.3 μs ± 84.9 ns per loop (mean ± std. dev. of 7 runs, 100,000 loops each)\n"
     ]
    }
   ],
   "source": [
    "%timeit returns_vec = (prices[1:] - prices[:-1]) / prices[:-1]"
   ]
  },
  {
   "cell_type": "markdown",
   "id": "08249e4e-7171-4c80-97ed-4eb3dc6b055c",
   "metadata": {},
   "source": [
    "Dataset Loading"
   ]
  },
  {
   "cell_type": "code",
   "execution_count": 62,
   "id": "79c50a1b-1da7-46d5-998e-6f9107b86a55",
   "metadata": {},
   "outputs": [
    {
     "name": "stdout",
     "output_type": "stream",
     "text": [
      "C:\\Users\\My PC\\bootcamp_dimil_patel\\homework\\homework0\n"
     ]
    }
   ],
   "source": [
    "print(os.getcwd())"
   ]
  },
  {
   "cell_type": "code",
   "execution_count": 67,
   "id": "815b8426-ff87-4f43-a095-c28e156b56c9",
   "metadata": {},
   "outputs": [],
   "source": [
    "os.chdir(r\"C:\\Users\\My PC\\bootcamp_dimil_patel\\homework\\homework3\")"
   ]
  },
  {
   "cell_type": "code",
   "execution_count": 70,
   "id": "398766cd-2351-4b91-920e-3a9e8ab2050d",
   "metadata": {},
   "outputs": [
    {
     "name": "stdout",
     "output_type": "stream",
     "text": [
      "C:\\Users\\My PC\\bootcamp_dimil_patel\\homework\\homework3\n"
     ]
    }
   ],
   "source": [
    "print(os.getcwd())"
   ]
  },
  {
   "cell_type": "code",
   "execution_count": 72,
   "id": "cdcb0cbc-17da-4ead-aa41-34b424389545",
   "metadata": {},
   "outputs": [
    {
     "name": "stdout",
     "output_type": "stream",
     "text": [
      "<class 'pandas.core.frame.DataFrame'>\n",
      "RangeIndex: 10 entries, 0 to 9\n",
      "Data columns (total 3 columns):\n",
      " #   Column    Non-Null Count  Dtype \n",
      "---  ------    --------------  ----- \n",
      " 0   category  10 non-null     object\n",
      " 1   value     10 non-null     int64 \n",
      " 2   date      10 non-null     object\n",
      "dtypes: int64(1), object(2)\n",
      "memory usage: 368.0+ bytes\n"
     ]
    },
    {
     "data": {
      "text/plain": [
       "(  category  value        date\n",
       " 0        A     10  2025-08-01\n",
       " 1        B     15  2025-08-02\n",
       " 2        A     12  2025-08-03\n",
       " 3        B     18  2025-08-04\n",
       " 4        C     25  2025-08-05,\n",
       " None)"
      ]
     },
     "execution_count": 72,
     "metadata": {},
     "output_type": "execute_result"
    }
   ],
   "source": [
    "df = pd.read_csv('data/starter_data.csv')\n",
    "df.head(), df.info()"
   ]
  },
  {
   "cell_type": "markdown",
   "id": "b8c348fe-2693-4d81-b078-2995a1b4e0f5",
   "metadata": {},
   "source": [
    "Summary Statistics"
   ]
  },
  {
   "cell_type": "code",
   "execution_count": 73,
   "id": "062f6a14-71f7-4541-a041-c12416b5fbc5",
   "metadata": {},
   "outputs": [
    {
     "data": {
      "text/html": [
       "<div>\n",
       "<style scoped>\n",
       "    .dataframe tbody tr th:only-of-type {\n",
       "        vertical-align: middle;\n",
       "    }\n",
       "\n",
       "    .dataframe tbody tr th {\n",
       "        vertical-align: top;\n",
       "    }\n",
       "\n",
       "    .dataframe thead th {\n",
       "        text-align: right;\n",
       "    }\n",
       "</style>\n",
       "<table border=\"1\" class=\"dataframe\">\n",
       "  <thead>\n",
       "    <tr style=\"text-align: right;\">\n",
       "      <th></th>\n",
       "      <th>value</th>\n",
       "    </tr>\n",
       "  </thead>\n",
       "  <tbody>\n",
       "    <tr>\n",
       "      <th>count</th>\n",
       "      <td>10.000000</td>\n",
       "    </tr>\n",
       "    <tr>\n",
       "      <th>mean</th>\n",
       "      <td>17.600000</td>\n",
       "    </tr>\n",
       "    <tr>\n",
       "      <th>std</th>\n",
       "      <td>7.381659</td>\n",
       "    </tr>\n",
       "    <tr>\n",
       "      <th>min</th>\n",
       "      <td>10.000000</td>\n",
       "    </tr>\n",
       "    <tr>\n",
       "      <th>25%</th>\n",
       "      <td>12.250000</td>\n",
       "    </tr>\n",
       "    <tr>\n",
       "      <th>50%</th>\n",
       "      <td>14.500000</td>\n",
       "    </tr>\n",
       "    <tr>\n",
       "      <th>75%</th>\n",
       "      <td>23.250000</td>\n",
       "    </tr>\n",
       "    <tr>\n",
       "      <th>max</th>\n",
       "      <td>30.000000</td>\n",
       "    </tr>\n",
       "  </tbody>\n",
       "</table>\n",
       "</div>"
      ],
      "text/plain": [
       "           value\n",
       "count  10.000000\n",
       "mean   17.600000\n",
       "std     7.381659\n",
       "min    10.000000\n",
       "25%    12.250000\n",
       "50%    14.500000\n",
       "75%    23.250000\n",
       "max    30.000000"
      ]
     },
     "execution_count": 73,
     "metadata": {},
     "output_type": "execute_result"
    }
   ],
   "source": [
    "df.describe()"
   ]
  },
  {
   "cell_type": "code",
   "execution_count": 76,
   "id": "43142e52-f1e1-470e-b91f-84dabe53f4e0",
   "metadata": {},
   "outputs": [
    {
     "data": {
      "text/html": [
       "<div>\n",
       "<style scoped>\n",
       "    .dataframe tbody tr th:only-of-type {\n",
       "        vertical-align: middle;\n",
       "    }\n",
       "\n",
       "    .dataframe tbody tr th {\n",
       "        vertical-align: top;\n",
       "    }\n",
       "\n",
       "    .dataframe thead th {\n",
       "        text-align: right;\n",
       "    }\n",
       "</style>\n",
       "<table border=\"1\" class=\"dataframe\">\n",
       "  <thead>\n",
       "    <tr style=\"text-align: right;\">\n",
       "      <th></th>\n",
       "      <th>Category</th>\n",
       "      <th>Min</th>\n",
       "      <th>Avg</th>\n",
       "      <th>Max</th>\n",
       "      <th>Std</th>\n",
       "    </tr>\n",
       "  </thead>\n",
       "  <tbody>\n",
       "    <tr>\n",
       "      <th>0</th>\n",
       "      <td>A</td>\n",
       "      <td>10</td>\n",
       "      <td>11.500000</td>\n",
       "      <td>13</td>\n",
       "      <td>1.290994</td>\n",
       "    </tr>\n",
       "    <tr>\n",
       "      <th>1</th>\n",
       "      <td>B</td>\n",
       "      <td>14</td>\n",
       "      <td>15.666667</td>\n",
       "      <td>18</td>\n",
       "      <td>2.081666</td>\n",
       "    </tr>\n",
       "    <tr>\n",
       "      <th>2</th>\n",
       "      <td>C</td>\n",
       "      <td>25</td>\n",
       "      <td>27.666667</td>\n",
       "      <td>30</td>\n",
       "      <td>2.516611</td>\n",
       "    </tr>\n",
       "  </tbody>\n",
       "</table>\n",
       "</div>"
      ],
      "text/plain": [
       "  Category  Min        Avg  Max       Std\n",
       "0        A   10  11.500000   13  1.290994\n",
       "1        B   14  15.666667   18  2.081666\n",
       "2        C   25  27.666667   30  2.516611"
      ]
     },
     "execution_count": 76,
     "metadata": {},
     "output_type": "execute_result"
    }
   ],
   "source": [
    "Data = df.groupby('category')['value'].agg(['min','mean','max', 'std']).reset_index()\n",
    "Data.columns = ['Category', 'Min','Avg','Max', 'Std']\n",
    "Data.to_csv('data/processed/summary.csv', index=False)\n",
    "Data"
   ]
  },
  {
   "cell_type": "code",
   "execution_count": null,
   "id": "548f2c48-778e-4643-80ec-5eda753681f7",
   "metadata": {},
   "outputs": [],
   "source": []
  }
 ],
 "metadata": {
  "kernelspec": {
   "display_name": "Python (bootcamp_env)",
   "language": "python",
   "name": "bootcamp_env"
  },
  "language_info": {
   "codemirror_mode": {
    "name": "ipython",
    "version": 3
   },
   "file_extension": ".py",
   "mimetype": "text/x-python",
   "name": "python",
   "nbconvert_exporter": "python",
   "pygments_lexer": "ipython3",
   "version": "3.10.18"
  }
 },
 "nbformat": 4,
 "nbformat_minor": 5
}
