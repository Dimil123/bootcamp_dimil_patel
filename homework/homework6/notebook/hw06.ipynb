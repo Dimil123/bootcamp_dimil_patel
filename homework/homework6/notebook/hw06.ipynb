{
 "cells": [
  {
   "cell_type": "code",
   "execution_count": 1,
   "id": "4398ccf1-5cbd-4555-b5a3-4c45c31f7b94",
   "metadata": {},
   "outputs": [],
   "source": [
    "# !pip install scikit-learn"
   ]
  },
  {
   "cell_type": "code",
   "execution_count": 2,
   "id": "7087b083-b210-4209-8b9d-1b9874bbc3c0",
   "metadata": {
    "editable": true,
    "slideshow": {
     "slide_type": ""
    },
    "tags": []
   },
   "outputs": [
    {
     "name": "stdout",
     "output_type": "stream",
     "text": [
      "RAW_DIR: C:\\Users\\My PC\\bootcamp_dimil_patel\\homework\\homework6\\data\\raw\n",
      "PROCESS_DIR: C:\\Users\\My PC\\bootcamp_dimil_patel\\homework\\homework6\\data\\processed\n",
      "RAW_DIR: C:\\Users\\My PC\\bootcamp_dimil_patel\\homework\\homework6\\notebook\n",
      "RAW_DIR: C:\\Users\\My PC\\bootcamp_dimil_patel\\homework\\homework6\\src\n"
     ]
    }
   ],
   "source": [
    "import os, pathlib, datetime as dt\n",
    "import pandas as pd\n",
    "import numpy as np\n",
    "import sys\n",
    "from sklearn.preprocessing import MinMaxScaler, StandardScaler\n",
    "sys.path.append(os.getcwd())\n",
    "from src.cleaning import *\n",
    "from dotenv import load_dotenv\n",
    "\n",
    "load_dotenv()\n",
    "\n",
    "RAW_DIR=pathlib.Path((os.getenv(\"DATA_DIR_RAW\",\"data/raw\")))\n",
    "PROCESS_DIR=pathlib.Path(os.getenv(\"PROCESS_DIR_RAW\",\"data/processed\"))\n",
    "NOTE_DIR=pathlib.Path(os.getenv(\"NOTE_DIR_RAW\",\"notebook\"))\n",
    "SRC_DIR=pathlib.Path(os.getenv(\"SRC_DIR_RAW\",\"src\"))\n",
    "RAW_DIR.mkdir(parents=True, exist_ok=True)\n",
    "print(\"RAW_DIR:\",RAW_DIR.resolve())\n",
    "PROCESS_DIR.mkdir(parents=True, exist_ok=True)\n",
    "print(\"PROCESS_DIR:\",PROCESS_DIR.resolve())\n",
    "NOTE_DIR.mkdir(parents=True, exist_ok=True)\n",
    "print(\"RAW_DIR:\",NOTE_DIR.resolve())\n",
    "SRC_DIR.mkdir(parents=True, exist_ok=True)\n",
    "print(\"RAW_DIR:\",SRC_DIR.resolve())"
   ]
  },
  {
   "cell_type": "code",
   "execution_count": 3,
   "id": "e6189a6a-3555-4ba3-ba1e-204a09a4953f",
   "metadata": {
    "editable": true,
    "slideshow": {
     "slide_type": ""
    },
    "tags": []
   },
   "outputs": [
    {
     "name": "stdout",
     "output_type": "stream",
     "text": [
      "Demo CSV created at data/raw/unclean_data.csv\n"
     ]
    }
   ],
   "source": [
    "csv_path = 'data/raw/unclean_data.csv'\n",
    "os.makedirs('data', exist_ok=True)\n",
    "\n",
    "if not os.path.exists(csv_path):\n",
    "    df_demo = pd.DataFrame({\n",
    "        'numeric_col': [10, None, 40, 55, 70],\n",
    "        'category_col': ['A', 'B', 'A', 'B', 'C'],\n",
    "        'price': ['$100', '$200', '$150', None, '$250'],\n",
    "        'date_str': ['2025-08-01','2025-08-02',None,'2025-08-04','2025-08-05'],\n",
    "        'category': ['Electronics','Furniture','Toys','Clothing',None]\n",
    "    })\n",
    "    df_demo.to_csv(csv_path, index=False)\n",
    "    print(f\"Demo CSV created at {csv_path}\")\n",
    "else:\n",
    "    print(f\"CSV already exists at {csv_path}\")"
   ]
  },
  {
   "cell_type": "markdown",
   "id": "f27245bb-bbb2-415c-936a-72a701c5ad52",
   "metadata": {
    "editable": true,
    "slideshow": {
     "slide_type": ""
    },
    "tags": []
   },
   "source": [
    "Load Raw Dataset"
   ]
  },
  {
   "cell_type": "code",
   "execution_count": 4,
   "id": "4f0363b0-885c-4d59-9c10-5375b4f262da",
   "metadata": {},
   "outputs": [
    {
     "data": {
      "text/html": [
       "<div>\n",
       "<style scoped>\n",
       "    .dataframe tbody tr th:only-of-type {\n",
       "        vertical-align: middle;\n",
       "    }\n",
       "\n",
       "    .dataframe tbody tr th {\n",
       "        vertical-align: top;\n",
       "    }\n",
       "\n",
       "    .dataframe thead th {\n",
       "        text-align: right;\n",
       "    }\n",
       "</style>\n",
       "<table border=\"1\" class=\"dataframe\">\n",
       "  <thead>\n",
       "    <tr style=\"text-align: right;\">\n",
       "      <th></th>\n",
       "      <th>numeric_col</th>\n",
       "      <th>category_col</th>\n",
       "      <th>price</th>\n",
       "      <th>date_str</th>\n",
       "      <th>category</th>\n",
       "    </tr>\n",
       "  </thead>\n",
       "  <tbody>\n",
       "    <tr>\n",
       "      <th>0</th>\n",
       "      <td>10.0</td>\n",
       "      <td>A</td>\n",
       "      <td>$100</td>\n",
       "      <td>2025-08-01</td>\n",
       "      <td>Electronics</td>\n",
       "    </tr>\n",
       "    <tr>\n",
       "      <th>1</th>\n",
       "      <td>NaN</td>\n",
       "      <td>B</td>\n",
       "      <td>$200</td>\n",
       "      <td>2025-08-02</td>\n",
       "      <td>Furniture</td>\n",
       "    </tr>\n",
       "    <tr>\n",
       "      <th>2</th>\n",
       "      <td>40.0</td>\n",
       "      <td>A</td>\n",
       "      <td>$150</td>\n",
       "      <td>NaN</td>\n",
       "      <td>Toys</td>\n",
       "    </tr>\n",
       "    <tr>\n",
       "      <th>3</th>\n",
       "      <td>55.0</td>\n",
       "      <td>B</td>\n",
       "      <td>NaN</td>\n",
       "      <td>2025-08-04</td>\n",
       "      <td>Clothing</td>\n",
       "    </tr>\n",
       "    <tr>\n",
       "      <th>4</th>\n",
       "      <td>70.0</td>\n",
       "      <td>C</td>\n",
       "      <td>$250</td>\n",
       "      <td>2025-08-05</td>\n",
       "      <td>NaN</td>\n",
       "    </tr>\n",
       "  </tbody>\n",
       "</table>\n",
       "</div>"
      ],
      "text/plain": [
       "   numeric_col category_col price    date_str     category\n",
       "0         10.0            A  $100  2025-08-01  Electronics\n",
       "1          NaN            B  $200  2025-08-02    Furniture\n",
       "2         40.0            A  $150         NaN         Toys\n",
       "3         55.0            B   NaN  2025-08-04     Clothing\n",
       "4         70.0            C  $250  2025-08-05          NaN"
      ]
     },
     "execution_count": 4,
     "metadata": {},
     "output_type": "execute_result"
    }
   ],
   "source": [
    "df = pd.read_csv('data/unclean_data.csv')\n",
    "df_clean=df\n",
    "df.head()\n"
   ]
  },
  {
   "cell_type": "markdown",
   "id": "027d131e-00f4-4e5a-9b73-a15b2e1ca9c9",
   "metadata": {},
   "source": [
    "Data Type Corrections"
   ]
  },
  {
   "cell_type": "code",
   "execution_count": 5,
   "id": "5b40645f-33b2-4321-bb77-034e5fc59926",
   "metadata": {},
   "outputs": [
    {
     "data": {
      "text/html": [
       "<div>\n",
       "<style scoped>\n",
       "    .dataframe tbody tr th:only-of-type {\n",
       "        vertical-align: middle;\n",
       "    }\n",
       "\n",
       "    .dataframe tbody tr th {\n",
       "        vertical-align: top;\n",
       "    }\n",
       "\n",
       "    .dataframe thead th {\n",
       "        text-align: right;\n",
       "    }\n",
       "</style>\n",
       "<table border=\"1\" class=\"dataframe\">\n",
       "  <thead>\n",
       "    <tr style=\"text-align: right;\">\n",
       "      <th></th>\n",
       "      <th>numeric_col</th>\n",
       "      <th>category_col</th>\n",
       "      <th>price</th>\n",
       "      <th>date_str</th>\n",
       "      <th>category</th>\n",
       "    </tr>\n",
       "  </thead>\n",
       "  <tbody>\n",
       "    <tr>\n",
       "      <th>0</th>\n",
       "      <td>10.0</td>\n",
       "      <td>A</td>\n",
       "      <td>100.0</td>\n",
       "      <td>2025-08-01</td>\n",
       "      <td>electronics</td>\n",
       "    </tr>\n",
       "    <tr>\n",
       "      <th>1</th>\n",
       "      <td>NaN</td>\n",
       "      <td>B</td>\n",
       "      <td>200.0</td>\n",
       "      <td>2025-08-02</td>\n",
       "      <td>furniture</td>\n",
       "    </tr>\n",
       "    <tr>\n",
       "      <th>2</th>\n",
       "      <td>40.0</td>\n",
       "      <td>A</td>\n",
       "      <td>150.0</td>\n",
       "      <td>NaT</td>\n",
       "      <td>toys</td>\n",
       "    </tr>\n",
       "    <tr>\n",
       "      <th>3</th>\n",
       "      <td>55.0</td>\n",
       "      <td>B</td>\n",
       "      <td>NaN</td>\n",
       "      <td>2025-08-04</td>\n",
       "      <td>clothing</td>\n",
       "    </tr>\n",
       "    <tr>\n",
       "      <th>4</th>\n",
       "      <td>70.0</td>\n",
       "      <td>C</td>\n",
       "      <td>250.0</td>\n",
       "      <td>2025-08-05</td>\n",
       "      <td>NaN</td>\n",
       "    </tr>\n",
       "  </tbody>\n",
       "</table>\n",
       "</div>"
      ],
      "text/plain": [
       "   numeric_col category_col  price   date_str     category\n",
       "0         10.0            A  100.0 2025-08-01  electronics\n",
       "1          NaN            B  200.0 2025-08-02    furniture\n",
       "2         40.0            A  150.0        NaT         toys\n",
       "3         55.0            B    NaN 2025-08-04     clothing\n",
       "4         70.0            C  250.0 2025-08-05          NaN"
      ]
     },
     "execution_count": 5,
     "metadata": {},
     "output_type": "execute_result"
    }
   ],
   "source": [
    "if 'price' in df.columns:\n",
    "    df_clean['price'] = df_clean['price'].str.replace('$','').astype(float)\n",
    "if 'date_str' in df.columns:\n",
    "    df_clean['date_str'] = pd.to_datetime(df_clean['date_str'], errors='coerce')\n",
    "if 'category' in df.columns:\n",
    "    df_clean['category'] = df_clean['category'].str.lower().astype('category')\n",
    "df_clean"
   ]
  },
  {
   "cell_type": "code",
   "execution_count": 8,
   "id": "51f5c3e4-08e9-47f5-9584-0b1d582306a4",
   "metadata": {
    "editable": true,
    "slideshow": {
     "slide_type": ""
    },
    "tags": []
   },
   "outputs": [
    {
     "data": {
      "text/html": [
       "<div>\n",
       "<style scoped>\n",
       "    .dataframe tbody tr th:only-of-type {\n",
       "        vertical-align: middle;\n",
       "    }\n",
       "\n",
       "    .dataframe tbody tr th {\n",
       "        vertical-align: top;\n",
       "    }\n",
       "\n",
       "    .dataframe thead th {\n",
       "        text-align: right;\n",
       "    }\n",
       "</style>\n",
       "<table border=\"1\" class=\"dataframe\">\n",
       "  <thead>\n",
       "    <tr style=\"text-align: right;\">\n",
       "      <th></th>\n",
       "      <th>numeric_col</th>\n",
       "      <th>category_col</th>\n",
       "      <th>price</th>\n",
       "      <th>date_str</th>\n",
       "      <th>category</th>\n",
       "    </tr>\n",
       "  </thead>\n",
       "  <tbody>\n",
       "    <tr>\n",
       "      <th>0</th>\n",
       "      <td>0.000000</td>\n",
       "      <td>A</td>\n",
       "      <td>0.00</td>\n",
       "      <td>2025-08-01</td>\n",
       "      <td>electronics</td>\n",
       "    </tr>\n",
       "    <tr>\n",
       "      <th>1</th>\n",
       "      <td>0.833333</td>\n",
       "      <td>B</td>\n",
       "      <td>1.00</td>\n",
       "      <td>2025-08-02</td>\n",
       "      <td>furniture</td>\n",
       "    </tr>\n",
       "    <tr>\n",
       "      <th>2</th>\n",
       "      <td>0.666667</td>\n",
       "      <td>A</td>\n",
       "      <td>0.50</td>\n",
       "      <td>2025-08-02</td>\n",
       "      <td>toys</td>\n",
       "    </tr>\n",
       "    <tr>\n",
       "      <th>3</th>\n",
       "      <td>1.000000</td>\n",
       "      <td>B</td>\n",
       "      <td>0.75</td>\n",
       "      <td>2025-08-04</td>\n",
       "      <td>clothing</td>\n",
       "    </tr>\n",
       "  </tbody>\n",
       "</table>\n",
       "</div>"
      ],
      "text/plain": [
       "   numeric_col category_col  price   date_str     category\n",
       "0     0.000000            A   0.00 2025-08-01  electronics\n",
       "1     0.833333            B   1.00 2025-08-02    furniture\n",
       "2     0.666667            A   0.50 2025-08-02         toys\n",
       "3     1.000000            B   0.75 2025-08-04     clothing"
      ]
     },
     "execution_count": 8,
     "metadata": {},
     "output_type": "execute_result"
    }
   ],
   "source": [
    "df_clean['date_str']=df_clean['date_str'].ffill()\n",
    "df_clean = fill_missing_median(df_clean)\n",
    "df_clean = drop_missing(df_clean, threshold=1)\n",
    "df_clean = normalize_data(df_clean, method='minmax')\n",
    "cleancsv_path = 'data/processed/clean_data.csv'\n",
    "df_clean.to_csv(cleancsv_path, index=False)\n",
    "df_clean"
   ]
  },
  {
   "cell_type": "markdown",
   "id": "73f66af8-d21e-467e-8781-fc2e0ea3f72d",
   "metadata": {
    "editable": true,
    "slideshow": {
     "slide_type": ""
    },
    "tags": []
   },
   "source": [
    "Comparison between Unclean vs clean"
   ]
  },
  {
   "cell_type": "code",
   "execution_count": 9,
   "id": "15fd1db5-1a96-4f7f-a547-6881522f0077",
   "metadata": {
    "editable": true,
    "slideshow": {
     "slide_type": ""
    },
    "tags": []
   },
   "outputs": [
    {
     "name": "stdout",
     "output_type": "stream",
     "text": [
      "Unclean shape:       (5, 5)\n",
      "Clean shape: (4, 5)\n"
     ]
    }
   ],
   "source": [
    "print(f\"Unclean shape:       {df.shape}\")\n",
    "print(f\"Clean shape: {df_clean.shape}\")"
   ]
  },
  {
   "cell_type": "code",
   "execution_count": 10,
   "id": "e9196b62-6600-4320-9061-7aba59a0bb96",
   "metadata": {},
   "outputs": [
    {
     "name": "stdout",
     "output_type": "stream",
     "text": [
      "=== Missing Values Unclean ===\n",
      "3\n",
      "=== Missing Values Clean ===\n",
      "0\n"
     ]
    }
   ],
   "source": [
    "print(\"=== Missing Values Unclean ===\")\n",
    "print(df.isna().sum().sum())\n",
    "print(\"=== Missing Values Clean ===\")\n",
    "print(df_clean.isna().sum().sum())"
   ]
  },
  {
   "cell_type": "code",
   "execution_count": null,
   "id": "c6aae6f5-c2b5-4879-b061-1e187f63f023",
   "metadata": {},
   "outputs": [],
   "source": []
  }
 ],
 "metadata": {
  "kernelspec": {
   "display_name": "Python(fe-course_env)",
   "language": "python",
   "name": "fe-course"
  },
  "language_info": {
   "codemirror_mode": {
    "name": "ipython",
    "version": 3
   },
   "file_extension": ".py",
   "mimetype": "text/x-python",
   "name": "python",
   "nbconvert_exporter": "python",
   "pygments_lexer": "ipython3",
   "version": "3.11.13"
  }
 },
 "nbformat": 4,
 "nbformat_minor": 5
}
