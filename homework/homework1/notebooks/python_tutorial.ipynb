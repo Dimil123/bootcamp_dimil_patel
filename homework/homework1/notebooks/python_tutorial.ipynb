{
 "cells": [
  {
   "cell_type": "code",
   "execution_count": 1,
   "id": "faf996e4-b7d2-4aa3-a28d-0e8cc3184993",
   "metadata": {},
   "outputs": [
    {
     "name": "stdout",
     "output_type": "stream",
     "text": [
      "hello bootcamp!!\n"
     ]
    }
   ],
   "source": [
    "print(\"hello bootcamp!!\")"
   ]
  },
  {
   "cell_type": "code",
   "execution_count": null,
   "id": "cef6950b-2f2d-41fd-8e8e-4aec13e363cb",
   "metadata": {},
   "outputs": [],
   "source": []
  }
 ],
 "metadata": {
  "kernelspec": {
   "display_name": "Python (bootcamp_env)",
   "language": "python",
   "name": "bootcamp_env"
  },
  "language_info": {
   "codemirror_mode": {
    "name": "ipython",
    "version": 3
   },
   "file_extension": ".py",
   "mimetype": "text/x-python",
   "name": "python",
   "nbconvert_exporter": "python",
   "pygments_lexer": "ipython3",
   "version": "3.10.18"
  }
 },
 "nbformat": 4,
 "nbformat_minor": 5
}
